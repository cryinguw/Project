{
 "cells": [
  {
   "cell_type": "markdown",
   "id": "838736ac",
   "metadata": {},
   "source": [
    "# 신용 거래 실적을 기반으로 대출의 가능성을 예측"
   ]
  },
  {
   "cell_type": "markdown",
   "id": "ae5b080c",
   "metadata": {},
   "source": [
    "p2p 대출 마켓플레이스에서는 다수의 대출 신청인을 모집해서 대부업체와 연결해 주는 징검다리 역할을 한다.\n",
    "\n",
    "\n",
    "흔히 중개업자로 볼 수 있으며 해외에서는 Lending tree, Upstart, Lending Club을 예를 들 수 있다.\n",
    "\n",
    "\n",
    "대출 신청자들의 신청 자격을 보고 대출을 할 가능성이 있는지 평가를 한다."
   ]
  },
  {
   "cell_type": "markdown",
   "id": "bce9e3fc",
   "metadata": {},
   "source": [
    "- entry_id : 유저 식별자\n",
    "- age: 나이\n",
    "- pay_schedule: 돈을 받는 빈도\n",
    "- home_owner: 자택 보유 유무\n",
    "- income: 소득\n",
    "- months_employed:\n",
    "- years_employed: 근무년수\n",
    "- current_address_year: 거주년수\n",
    "- personal_account_m: 개인 계좌 보유 월 수 (조합)\n",
    "- personal_account_y: 개인 계좌 보유 년 수 (조합)\n",
    "- has_debt: 빚의 유무\n",
    "- amount_requested: 원하는 대출 금액\n",
    "- risk_score: 금융 및 엔지니어링 팀 제공\n",
    "- risk_score_2:\n",
    "- risk_score_3:\n",
    "- risk_score_4:\n",
    "- risk_score_5:\n",
    "- ext_quality_score: P2P 마켓플레이스 제공\n",
    "- ext_quality_score_2:\n",
    "- inquiries_last_month: 신용점수 확인\n",
    "- e_signed: 반응변수\n",
    "\n",
    "\n",
    "- 출처: https://www.kaggle.com/datasets/aniruddhachoudhury/esigning-of-loan-based-on-financial-history\n",
    "\n",
    "\n",
    "리스크 점수를 통해 e-sign까지 도달여부를 예측한다."
   ]
  },
  {
   "cell_type": "markdown",
   "id": "5f899bfa",
   "metadata": {},
   "source": [
    "# 목차"
   ]
  },
  {
   "cell_type": "markdown",
   "id": "c73f70f9",
   "metadata": {},
   "source": [
    "1. 데이터 읽기\n",
    "2. 데이터 시각화\n",
    "    - 히스토그램\n",
    "    - 상관관계 그래프\n",
    "3. 데이터 전처리\n",
    "    - 원 핫 인코딩\n",
    "    - 특성 선택\n",
    "4. 모델 구축 (분류성능평가지표)\n",
    "    - 라쏘\n",
    "    - SVM\n",
    "        1. linear\n",
    "        2. rbf\n",
    "    - 랜덤포레스트\n",
    "        - 그리드 검색\n",
    "            1. Entropy\n",
    "            2. Gini\n",
    "5. 결론\n"
   ]
  },
  {
   "cell_type": "markdown",
   "id": "1e54a152",
   "metadata": {},
   "source": [
    "# 데이터 읽기"
   ]
  },
  {
   "cell_type": "code",
   "execution_count": 1,
   "id": "044eb998",
   "metadata": {},
   "outputs": [],
   "source": [
    "import pandas as pd\n",
    "import matplotlib.pyplot as plt\n",
    "import numpy as np\n",
    "import seaborn as sn\n",
    "\n",
    "dataset = pd.read_csv('financial_data.csv')"
   ]
  },
  {
   "cell_type": "code",
   "execution_count": 2,
   "id": "1555c3b1",
   "metadata": {},
   "outputs": [
    {
     "data": {
      "text/html": [
       "<div>\n",
       "<style scoped>\n",
       "    .dataframe tbody tr th:only-of-type {\n",
       "        vertical-align: middle;\n",
       "    }\n",
       "\n",
       "    .dataframe tbody tr th {\n",
       "        vertical-align: top;\n",
       "    }\n",
       "\n",
       "    .dataframe thead th {\n",
       "        text-align: right;\n",
       "    }\n",
       "</style>\n",
       "<table border=\"1\" class=\"dataframe\">\n",
       "  <thead>\n",
       "    <tr style=\"text-align: right;\">\n",
       "      <th></th>\n",
       "      <th>entry_id</th>\n",
       "      <th>age</th>\n",
       "      <th>home_owner</th>\n",
       "      <th>income</th>\n",
       "      <th>months_employed</th>\n",
       "      <th>years_employed</th>\n",
       "      <th>current_address_year</th>\n",
       "      <th>personal_account_m</th>\n",
       "      <th>personal_account_y</th>\n",
       "      <th>has_debt</th>\n",
       "      <th>amount_requested</th>\n",
       "      <th>risk_score</th>\n",
       "      <th>risk_score_2</th>\n",
       "      <th>risk_score_3</th>\n",
       "      <th>risk_score_4</th>\n",
       "      <th>risk_score_5</th>\n",
       "      <th>ext_quality_score</th>\n",
       "      <th>ext_quality_score_2</th>\n",
       "      <th>inquiries_last_month</th>\n",
       "      <th>e_signed</th>\n",
       "    </tr>\n",
       "  </thead>\n",
       "  <tbody>\n",
       "    <tr>\n",
       "      <th>count</th>\n",
       "      <td>1.790800e+04</td>\n",
       "      <td>17908.000000</td>\n",
       "      <td>17908.000000</td>\n",
       "      <td>17908.000000</td>\n",
       "      <td>17908.000000</td>\n",
       "      <td>17908.000000</td>\n",
       "      <td>17908.000000</td>\n",
       "      <td>17908.000000</td>\n",
       "      <td>17908.000000</td>\n",
       "      <td>17908.000000</td>\n",
       "      <td>17908.000000</td>\n",
       "      <td>17908.000000</td>\n",
       "      <td>17908.000000</td>\n",
       "      <td>17908.000000</td>\n",
       "      <td>17908.000000</td>\n",
       "      <td>17908.000000</td>\n",
       "      <td>17908.000000</td>\n",
       "      <td>17908.000000</td>\n",
       "      <td>17908.000000</td>\n",
       "      <td>17908.000000</td>\n",
       "    </tr>\n",
       "    <tr>\n",
       "      <th>mean</th>\n",
       "      <td>5.596978e+06</td>\n",
       "      <td>43.015412</td>\n",
       "      <td>0.425173</td>\n",
       "      <td>3657.214653</td>\n",
       "      <td>1.186006</td>\n",
       "      <td>3.526860</td>\n",
       "      <td>3.584711</td>\n",
       "      <td>3.427183</td>\n",
       "      <td>3.503350</td>\n",
       "      <td>0.795399</td>\n",
       "      <td>950.446449</td>\n",
       "      <td>61086.302211</td>\n",
       "      <td>0.690878</td>\n",
       "      <td>0.878276</td>\n",
       "      <td>0.583155</td>\n",
       "      <td>0.718252</td>\n",
       "      <td>0.623112</td>\n",
       "      <td>0.622068</td>\n",
       "      <td>6.457226</td>\n",
       "      <td>0.538251</td>\n",
       "    </tr>\n",
       "    <tr>\n",
       "      <th>std</th>\n",
       "      <td>2.562473e+06</td>\n",
       "      <td>11.873107</td>\n",
       "      <td>0.494383</td>\n",
       "      <td>1504.890063</td>\n",
       "      <td>2.400897</td>\n",
       "      <td>2.259732</td>\n",
       "      <td>2.751937</td>\n",
       "      <td>2.216440</td>\n",
       "      <td>1.955568</td>\n",
       "      <td>0.403421</td>\n",
       "      <td>698.543683</td>\n",
       "      <td>15394.255020</td>\n",
       "      <td>0.090470</td>\n",
       "      <td>0.054563</td>\n",
       "      <td>0.125061</td>\n",
       "      <td>0.120697</td>\n",
       "      <td>0.139729</td>\n",
       "      <td>0.139898</td>\n",
       "      <td>3.673093</td>\n",
       "      <td>0.498549</td>\n",
       "    </tr>\n",
       "    <tr>\n",
       "      <th>min</th>\n",
       "      <td>1.111398e+06</td>\n",
       "      <td>18.000000</td>\n",
       "      <td>0.000000</td>\n",
       "      <td>905.000000</td>\n",
       "      <td>0.000000</td>\n",
       "      <td>0.000000</td>\n",
       "      <td>0.000000</td>\n",
       "      <td>0.000000</td>\n",
       "      <td>0.000000</td>\n",
       "      <td>0.000000</td>\n",
       "      <td>350.000000</td>\n",
       "      <td>2100.000000</td>\n",
       "      <td>0.023258</td>\n",
       "      <td>0.451371</td>\n",
       "      <td>0.016724</td>\n",
       "      <td>0.153367</td>\n",
       "      <td>0.010184</td>\n",
       "      <td>0.006622</td>\n",
       "      <td>1.000000</td>\n",
       "      <td>0.000000</td>\n",
       "    </tr>\n",
       "    <tr>\n",
       "      <th>25%</th>\n",
       "      <td>3.378999e+06</td>\n",
       "      <td>34.000000</td>\n",
       "      <td>0.000000</td>\n",
       "      <td>2580.000000</td>\n",
       "      <td>0.000000</td>\n",
       "      <td>2.000000</td>\n",
       "      <td>2.000000</td>\n",
       "      <td>2.000000</td>\n",
       "      <td>2.000000</td>\n",
       "      <td>1.000000</td>\n",
       "      <td>600.000000</td>\n",
       "      <td>49350.000000</td>\n",
       "      <td>0.640993</td>\n",
       "      <td>0.850882</td>\n",
       "      <td>0.500208</td>\n",
       "      <td>0.633708</td>\n",
       "      <td>0.521735</td>\n",
       "      <td>0.519677</td>\n",
       "      <td>4.000000</td>\n",
       "      <td>0.000000</td>\n",
       "    </tr>\n",
       "    <tr>\n",
       "      <th>50%</th>\n",
       "      <td>5.608376e+06</td>\n",
       "      <td>42.000000</td>\n",
       "      <td>0.000000</td>\n",
       "      <td>3260.000000</td>\n",
       "      <td>0.000000</td>\n",
       "      <td>3.000000</td>\n",
       "      <td>3.000000</td>\n",
       "      <td>2.000000</td>\n",
       "      <td>3.000000</td>\n",
       "      <td>1.000000</td>\n",
       "      <td>700.000000</td>\n",
       "      <td>61200.000000</td>\n",
       "      <td>0.699561</td>\n",
       "      <td>0.881004</td>\n",
       "      <td>0.588208</td>\n",
       "      <td>0.725113</td>\n",
       "      <td>0.625944</td>\n",
       "      <td>0.622974</td>\n",
       "      <td>6.000000</td>\n",
       "      <td>1.000000</td>\n",
       "    </tr>\n",
       "    <tr>\n",
       "      <th>75%</th>\n",
       "      <td>7.805624e+06</td>\n",
       "      <td>51.000000</td>\n",
       "      <td>1.000000</td>\n",
       "      <td>4670.000000</td>\n",
       "      <td>1.000000</td>\n",
       "      <td>5.000000</td>\n",
       "      <td>5.000000</td>\n",
       "      <td>5.000000</td>\n",
       "      <td>4.000000</td>\n",
       "      <td>1.000000</td>\n",
       "      <td>1100.000000</td>\n",
       "      <td>72750.000000</td>\n",
       "      <td>0.752887</td>\n",
       "      <td>0.912608</td>\n",
       "      <td>0.672395</td>\n",
       "      <td>0.806681</td>\n",
       "      <td>0.729841</td>\n",
       "      <td>0.728940</td>\n",
       "      <td>8.000000</td>\n",
       "      <td>1.000000</td>\n",
       "    </tr>\n",
       "    <tr>\n",
       "      <th>max</th>\n",
       "      <td>9.999874e+06</td>\n",
       "      <td>96.000000</td>\n",
       "      <td>1.000000</td>\n",
       "      <td>9985.000000</td>\n",
       "      <td>11.000000</td>\n",
       "      <td>16.000000</td>\n",
       "      <td>12.000000</td>\n",
       "      <td>11.000000</td>\n",
       "      <td>15.000000</td>\n",
       "      <td>1.000000</td>\n",
       "      <td>10200.000000</td>\n",
       "      <td>99750.000000</td>\n",
       "      <td>0.999997</td>\n",
       "      <td>0.999024</td>\n",
       "      <td>0.978932</td>\n",
       "      <td>0.996260</td>\n",
       "      <td>0.970249</td>\n",
       "      <td>0.966953</td>\n",
       "      <td>30.000000</td>\n",
       "      <td>1.000000</td>\n",
       "    </tr>\n",
       "  </tbody>\n",
       "</table>\n",
       "</div>"
      ],
      "text/plain": [
       "           entry_id           age    home_owner        income  \\\n",
       "count  1.790800e+04  17908.000000  17908.000000  17908.000000   \n",
       "mean   5.596978e+06     43.015412      0.425173   3657.214653   \n",
       "std    2.562473e+06     11.873107      0.494383   1504.890063   \n",
       "min    1.111398e+06     18.000000      0.000000    905.000000   \n",
       "25%    3.378999e+06     34.000000      0.000000   2580.000000   \n",
       "50%    5.608376e+06     42.000000      0.000000   3260.000000   \n",
       "75%    7.805624e+06     51.000000      1.000000   4670.000000   \n",
       "max    9.999874e+06     96.000000      1.000000   9985.000000   \n",
       "\n",
       "       months_employed  years_employed  current_address_year  \\\n",
       "count     17908.000000    17908.000000          17908.000000   \n",
       "mean          1.186006        3.526860              3.584711   \n",
       "std           2.400897        2.259732              2.751937   \n",
       "min           0.000000        0.000000              0.000000   \n",
       "25%           0.000000        2.000000              2.000000   \n",
       "50%           0.000000        3.000000              3.000000   \n",
       "75%           1.000000        5.000000              5.000000   \n",
       "max          11.000000       16.000000             12.000000   \n",
       "\n",
       "       personal_account_m  personal_account_y      has_debt  amount_requested  \\\n",
       "count        17908.000000        17908.000000  17908.000000      17908.000000   \n",
       "mean             3.427183            3.503350      0.795399        950.446449   \n",
       "std              2.216440            1.955568      0.403421        698.543683   \n",
       "min              0.000000            0.000000      0.000000        350.000000   \n",
       "25%              2.000000            2.000000      1.000000        600.000000   \n",
       "50%              2.000000            3.000000      1.000000        700.000000   \n",
       "75%              5.000000            4.000000      1.000000       1100.000000   \n",
       "max             11.000000           15.000000      1.000000      10200.000000   \n",
       "\n",
       "         risk_score  risk_score_2  risk_score_3  risk_score_4  risk_score_5  \\\n",
       "count  17908.000000  17908.000000  17908.000000  17908.000000  17908.000000   \n",
       "mean   61086.302211      0.690878      0.878276      0.583155      0.718252   \n",
       "std    15394.255020      0.090470      0.054563      0.125061      0.120697   \n",
       "min     2100.000000      0.023258      0.451371      0.016724      0.153367   \n",
       "25%    49350.000000      0.640993      0.850882      0.500208      0.633708   \n",
       "50%    61200.000000      0.699561      0.881004      0.588208      0.725113   \n",
       "75%    72750.000000      0.752887      0.912608      0.672395      0.806681   \n",
       "max    99750.000000      0.999997      0.999024      0.978932      0.996260   \n",
       "\n",
       "       ext_quality_score  ext_quality_score_2  inquiries_last_month  \\\n",
       "count       17908.000000         17908.000000          17908.000000   \n",
       "mean            0.623112             0.622068              6.457226   \n",
       "std             0.139729             0.139898              3.673093   \n",
       "min             0.010184             0.006622              1.000000   \n",
       "25%             0.521735             0.519677              4.000000   \n",
       "50%             0.625944             0.622974              6.000000   \n",
       "75%             0.729841             0.728940              8.000000   \n",
       "max             0.970249             0.966953             30.000000   \n",
       "\n",
       "           e_signed  \n",
       "count  17908.000000  \n",
       "mean       0.538251  \n",
       "std        0.498549  \n",
       "min        0.000000  \n",
       "25%        0.000000  \n",
       "50%        1.000000  \n",
       "75%        1.000000  \n",
       "max        1.000000  "
      ]
     },
     "execution_count": 2,
     "metadata": {},
     "output_type": "execute_result"
    }
   ],
   "source": [
    "dataset.describe()"
   ]
  },
  {
   "cell_type": "code",
   "execution_count": 3,
   "id": "775f5139",
   "metadata": {
    "scrolled": true
   },
   "outputs": [
    {
     "data": {
      "text/plain": [
       "entry_id                False\n",
       "age                     False\n",
       "pay_schedule            False\n",
       "home_owner              False\n",
       "income                  False\n",
       "months_employed         False\n",
       "years_employed          False\n",
       "current_address_year    False\n",
       "personal_account_m      False\n",
       "personal_account_y      False\n",
       "has_debt                False\n",
       "amount_requested        False\n",
       "risk_score              False\n",
       "risk_score_2            False\n",
       "risk_score_3            False\n",
       "risk_score_4            False\n",
       "risk_score_5            False\n",
       "ext_quality_score       False\n",
       "ext_quality_score_2     False\n",
       "inquiries_last_month    False\n",
       "e_signed                False\n",
       "dtype: bool"
      ]
     },
     "execution_count": 3,
     "metadata": {},
     "output_type": "execute_result"
    }
   ],
   "source": [
    "# 결측치 확인\n",
    "dataset.isna().any()"
   ]
  },
  {
   "cell_type": "markdown",
   "id": "a63982ce",
   "metadata": {},
   "source": [
    "결측치가 하나도 없는 것을 볼 수 있다."
   ]
  },
  {
   "cell_type": "markdown",
   "id": "bd3aa04a",
   "metadata": {},
   "source": [
    "# 데이터 시각화"
   ]
  },
  {
   "cell_type": "code",
   "execution_count": 4,
   "id": "e520facb",
   "metadata": {},
   "outputs": [
    {
     "data": {
      "image/png": "[encoded data removed]",
      "text/plain": [
       "<Figure size 1080x864 with 18 Axes>"
      ]
     },
     "metadata": {
      "needs_background": "light"
     },
     "output_type": "display_data"
    }
   ],
   "source": [
    "# 히스토그램\n",
    "dataset2 = dataset.drop(columns = ['entry_id', 'pay_schedule', 'e_signed'])\n",
    "# 유저 식별자, 범주형, 반응변수로 제외\n",
    "\n",
    "fig = plt.figure(figsize=(15, 12))\n",
    "plt.suptitle('Histograms of Numerical Columns', fontsize=20)\n",
    "for i in range(dataset2.shape[1]):\n",
    "    plt.subplot(6, 3, i + 1)\n",
    "    f = plt.gca()\n",
    "    f.set_title(dataset2.columns.values[i])\n",
    "\n",
    "    vals = np.size(dataset2.iloc[:, i].unique())\n",
    "    if vals >= 100: \n",
    "        vals = 100\n",
    "    # 100개 넘는 열이 있는 경우 100으로 제한\n",
    "    plt.hist(dataset2.iloc[:, i], bins=vals)\n",
    "plt.tight_layout(rect=[0, 0.03, 1, 0.95])"
   ]
  },
  {
   "cell_type": "code",
   "execution_count": 5,
   "id": "db3144c1",
   "metadata": {},
   "outputs": [
    {
     "data": {
      "text/plain": [
       "<AxesSubplot:title={'center':'Correlation with E-signed'}>"
      ]
     },
     "execution_count": 5,
     "metadata": {},
     "output_type": "execute_result"
    },
    {
     "data": {
      "image/png": "[encoded data removed]",
      "text/plain": [
       "<Figure size 1440x720 with 1 Axes>"
      ]
     },
     "metadata": {
      "needs_background": "light"
     },
     "output_type": "display_data"
    }
   ],
   "source": [
    "# 상관관계\n",
    "dataset2.corrwith(dataset.e_signed).plot.bar(\n",
    "        figsize = (20, 10), title = \"Correlation with E-signed\", fontsize = 15,\n",
    "        rot = 45, grid = True)"
   ]
  },
  {
   "cell_type": "code",
   "execution_count": 6,
   "id": "40644f9f",
   "metadata": {},
   "outputs": [
    {
     "name": "stderr",
     "output_type": "stream",
     "text": [
      "<ipython-input-6-7e41c262a5a7>:4: DeprecationWarning: `np.bool` is a deprecated alias for the builtin `bool`. To silence this warning, use `bool` by itself. Doing this will not modify any behavior and is safe. If you specifically wanted the numpy scalar type, use `np.bool_` here.\n",
      "Deprecated in NumPy 1.20; for more details and guidance: https://numpy.org/devdocs/release/1.20.0-notes.html#deprecations\n",
      "  mask = np.zeros_like(corr, dtype=np.bool)\n"
     ]
    },
    {
     "data": {
      "text/plain": [
       "<AxesSubplot:>"
      ]
     },
     "execution_count": 6,
     "metadata": {},
     "output_type": "execute_result"
    },
    {
     "data": {
      "image/png": "[encoded data removed]",
      "text/plain": [
       "<Figure size 1296x1080 with 2 Axes>"
      ]
     },
     "metadata": {},
     "output_type": "display_data"
    }
   ],
   "source": [
    "# 상관계수 행렬\n",
    "sn.set(style=\"white\")\n",
    "corr = dataset2.corr()\n",
    "mask = np.zeros_like(corr, dtype=np.bool)\n",
    "mask[np.triu_indices_from(mask)] = True\n",
    "f, ax = plt.subplots(figsize=(18, 15))\n",
    "cmap = sn.diverging_palette(220, 10, as_cmap=True)\n",
    "\n",
    "sn.heatmap(corr, mask=mask, cmap=cmap, vmax=.3, center=0,\n",
    "            square=True, linewidths=.5, cbar_kws={\"shrink\": .5})"
   ]
  },
  {
   "cell_type": "markdown",
   "id": "6bf7bd79",
   "metadata": {},
   "source": [
    "# 데이터 전처리"
   ]
  },
  {
   "cell_type": "code",
   "execution_count": 7,
   "id": "61163c76",
   "metadata": {},
   "outputs": [],
   "source": [
    "#변수 가공\n",
    "import random\n",
    "import time\n",
    "\n",
    "random.seed(100)\n",
    "\n",
    "dataset = pd.read_csv('financial_data.csv')\n",
    "\n",
    "dataset = dataset.drop(columns = ['months_employed']) # 제거\n",
    "dataset['personal_account_months'] = (dataset.personal_account_m + (dataset.personal_account_y * 12)) # 분리된 데이터셋 합치기\n",
    "dataset = dataset.drop(columns = ['personal_account_m', 'personal_account_y']) # 기존 데이터셋 삭제"
   ]
  },
  {
   "cell_type": "code",
   "execution_count": 8,
   "id": "c014b458",
   "metadata": {},
   "outputs": [],
   "source": [
    "# 원 핫 인코딩 ('구독 해지율을 최소화시키자' 주제에서 자세히 다룬다.)\n",
    "dataset = pd.get_dummies(dataset)\n",
    "dataset.columns\n",
    "dataset = dataset.drop(columns = ['pay_schedule_semi-monthly'])\n",
    "\n",
    "# 여분의 열 제거\n",
    "response = dataset[\"e_signed\"] #반응변수\n",
    "users = dataset['entry_id'] #식별자\n",
    "dataset = dataset.drop(columns = [\"e_signed\", \"entry_id\"])"
   ]
  },
  {
   "cell_type": "code",
   "execution_count": 9,
   "id": "70a4615a",
   "metadata": {},
   "outputs": [],
   "source": [
    "# training + test\n",
    "from sklearn.model_selection import train_test_split\n",
    "X_train, X_test, y_train, y_test = train_test_split(dataset,\n",
    "                                                    response,\n",
    "                                                    test_size = 0.2,\n",
    "                                                    random_state = 0)"
   ]
  },
  {
   "cell_type": "code",
   "execution_count": 10,
   "id": "ed7a86e7",
   "metadata": {},
   "outputs": [],
   "source": [
    "# 특성 스케일링\n",
    "from sklearn.preprocessing import StandardScaler\n",
    "sc_X = StandardScaler() # 표준 스케일러\n",
    "X_train2 = pd.DataFrame(sc_X.fit_transform(X_train))\n",
    "X_test2 = pd.DataFrame(sc_X.transform(X_test))\n",
    "X_train2.columns = X_train.columns.values\n",
    "X_test2.columns = X_test.columns.values\n",
    "X_train2.index = X_train.index.values\n",
    "X_test2.index = X_test.index.values\n",
    "X_train = X_train2\n",
    "X_test = X_test2"
   ]
  },
  {
   "cell_type": "markdown",
   "id": "84723a2c",
   "metadata": {},
   "source": [
    "# 모델구축"
   ]
  },
  {
   "cell_type": "code",
   "execution_count": 11,
   "id": "8bc772cf",
   "metadata": {},
   "outputs": [
    {
     "data": {
      "text/plain": [
       "LogisticRegression(penalty='l1', random_state=0, solver='liblinear')"
      ]
     },
     "execution_count": 11,
     "metadata": {},
     "output_type": "execute_result"
    }
   ],
   "source": [
    "# 로지스틱 회귀\n",
    "from sklearn.linear_model import LogisticRegression\n",
    "classifier = LogisticRegression(random_state = 0, penalty = 'l1', solver='liblinear')\n",
    "classifier.fit(X_train, y_train)"
   ]
  },
  {
   "cell_type": "code",
   "execution_count": 12,
   "id": "f93f240b",
   "metadata": {},
   "outputs": [
    {
     "name": "stdout",
     "output_type": "stream",
     "text": [
      "                       Model  Accuracy  Precision    Recall  F1 Score\n",
      "0  Linear Regression (Lasso)  0.561977   0.575963  0.705913  0.634351\n"
     ]
    }
   ],
   "source": [
    "# 테스트 세트 예측\n",
    "y_pred = classifier.predict(X_test)\n",
    "from sklearn.metrics import confusion_matrix, accuracy_score, f1_score, precision_score, recall_score, classification_report\n",
    "acc = accuracy_score(y_test, y_pred) # 정확도\n",
    "prec = precision_score(y_test, y_pred) # 정밀도\n",
    "rec = recall_score(y_test, y_pred) # 재현율\n",
    "f1 = f1_score(y_test, y_pred) # F1 score\n",
    "\n",
    "results = pd.DataFrame([['Linear Regression (Lasso)', acc, prec, rec, f1]],\n",
    "               columns = ['Model', 'Accuracy', 'Precision', 'Recall', 'F1 Score'])\n",
    "print(results)"
   ]
  },
  {
   "cell_type": "markdown",
   "id": "bb3e94d4",
   "metadata": {},
   "source": [
    "재현율 약 71% 수준으로 모델이 편향되어 있다. \n",
    "\n",
    "\n",
    "정확도가 56% 이기 때문에 다른 방법을 이용해서 더 나은 정확도를 도출내고자 한다."
   ]
  },
  {
   "cell_type": "code",
   "execution_count": 13,
   "id": "6c337d3c",
   "metadata": {},
   "outputs": [
    {
     "data": {
      "text/plain": [
       "SVC(kernel='linear', random_state=0)"
      ]
     },
     "execution_count": 13,
     "metadata": {},
     "output_type": "execute_result"
    }
   ],
   "source": [
    "# SVM 서포트 벡터 머신\n",
    "from sklearn.svm import SVC\n",
    "classifier = SVC(random_state = 0, kernel = 'linear') # 선형으로 설정\n",
    "classifier.fit(X_train, y_train)"
   ]
  },
  {
   "cell_type": "code",
   "execution_count": 14,
   "id": "fe168870",
   "metadata": {},
   "outputs": [
    {
     "name": "stdout",
     "output_type": "stream",
     "text": [
      "                       Model  Accuracy  Precision    Recall  F1 Score\n",
      "0  Linear Regression (Lasso)  0.561977   0.575963  0.705913  0.634351\n",
      "1               SVM (linear)  0.568398   0.577832  0.735477  0.647193\n"
     ]
    }
   ],
   "source": [
    "# 테스트 세트 예측\n",
    "y_pred = classifier.predict(X_test)\n",
    "from sklearn.metrics import confusion_matrix, accuracy_score, f1_score, precision_score, recall_score\n",
    "acc = accuracy_score(y_test, y_pred) # 정확도\n",
    "prec = precision_score(y_test, y_pred) # 정밀도\n",
    "rec = recall_score(y_test, y_pred) # 재현율\n",
    "f1 = f1_score(y_test, y_pred) # F1 score\n",
    "\n",
    "SVM_results = pd.DataFrame([['SVM (linear)', acc, prec, rec, f1]],\n",
    "               columns = ['Model', 'Accuracy', 'Precision', 'Recall', 'F1 Score'])\n",
    "\n",
    "results = results.append(SVM_results, ignore_index = True) # 테이블 추가\n",
    "print(results)"
   ]
  },
  {
   "cell_type": "code",
   "execution_count": 15,
   "id": "3f1a46b0",
   "metadata": {},
   "outputs": [],
   "source": [
    "# SVM(rbf)\n",
    "classifier = SVC(random_state = 0, kernel = 'rbf')\n",
    "classifier.fit(X_train, y_train)\n",
    "\n",
    "# 테스트 세트 예측\n",
    "y_pred = classifier.predict(X_test)\n",
    "acc = accuracy_score(y_test, y_pred)\n",
    "prec = precision_score(y_test, y_pred)\n",
    "rec = recall_score(y_test, y_pred)\n",
    "f1 = f1_score(y_test, y_pred)\n",
    "\n",
    "model_results = pd.DataFrame([['SVM (RBF)', acc, prec, rec, f1]],\n",
    "               columns = ['Model', 'Accuracy', 'Precision', 'Recall', 'F1 Score'])\n",
    "\n",
    "results = results.append(model_results, ignore_index = True)"
   ]
  },
  {
   "cell_type": "code",
   "execution_count": 16,
   "id": "59020c84",
   "metadata": {},
   "outputs": [],
   "source": [
    "# 랜덤 포레스트\n",
    "from sklearn.ensemble import RandomForestClassifier\n",
    "classifier = RandomForestClassifier(random_state = 0, n_estimators = 100,\n",
    "                                    criterion = 'entropy')\n",
    "classifier.fit(X_train, y_train)\n",
    "\n",
    "# Predicting Test Set\n",
    "y_pred = classifier.predict(X_test)\n",
    "acc = accuracy_score(y_test, y_pred)\n",
    "prec = precision_score(y_test, y_pred)\n",
    "rec = recall_score(y_test, y_pred)\n",
    "f1 = f1_score(y_test, y_pred)\n",
    "\n",
    "model_results = pd.DataFrame([['Random Forest (n=100)', acc, prec, rec, f1]],\n",
    "               columns = ['Model', 'Accuracy', 'Precision', 'Recall', 'F1 Score'])\n",
    "\n",
    "results = results.append(model_results, ignore_index = True)"
   ]
  },
  {
   "cell_type": "code",
   "execution_count": 17,
   "id": "bf813713",
   "metadata": {},
   "outputs": [
    {
     "name": "stdout",
     "output_type": "stream",
     "text": [
      "                       Model  Accuracy  Precision    Recall  F1 Score\n",
      "0  Linear Regression (Lasso)  0.561977   0.575963  0.705913  0.634351\n",
      "1               SVM (linear)  0.568398   0.577832  0.735477  0.647193\n",
      "2                  SVM (RBF)  0.591569   0.605730  0.690871  0.645505\n",
      "3      Random Forest (n=100)  0.621720   0.640098  0.678942  0.658948\n"
     ]
    }
   ],
   "source": [
    "print(results)"
   ]
  },
  {
   "cell_type": "code",
   "execution_count": 18,
   "id": "54e8ba64",
   "metadata": {},
   "outputs": [
    {
     "name": "stdout",
     "output_type": "stream",
     "text": [
      "Random Forest Classifier Accuracy: 0.63 (+/- 0.03)\n"
     ]
    }
   ],
   "source": [
    "# k-겹 교차 검증\n",
    "from sklearn.model_selection import cross_val_score\n",
    "accuracies = cross_val_score(estimator = classifier, X= X_train, y = y_train,\n",
    "                             cv = 10)\n",
    "print(\"Random Forest Classifier Accuracy: %0.2f (+/- %0.2f)\"  % (accuracies.mean(), accuracies.std() * 2))"
   ]
  },
  {
   "cell_type": "markdown",
   "id": "17306560",
   "metadata": {},
   "source": [
    "### 그리드 검색"
   ]
  },
  {
   "cell_type": "code",
   "execution_count": 19,
   "id": "9669a7dd",
   "metadata": {},
   "outputs": [
    {
     "name": "stdout",
     "output_type": "stream",
     "text": [
      "Took 2989.16 seconds\n"
     ]
    },
    {
     "data": {
      "text/plain": [
       "(0.6345122647725013,\n",
       " {'bootstrap': True,\n",
       "  'criterion': 'entropy',\n",
       "  'max_depth': None,\n",
       "  'max_features': 5,\n",
       "  'min_samples_leaf': 5,\n",
       "  'min_samples_split': 2})"
      ]
     },
     "execution_count": 19,
     "metadata": {},
     "output_type": "execute_result"
    }
   ],
   "source": [
    "# 랜덤 포레스트가 가장 높은 정확도가 나왔기 때문에 파라미터를 조정해서 더 좋은 모델로 바꿔보자.\n",
    "# Entropy\n",
    "parameters = {\"max_depth\": [3, None], # 트리 내에서 도달 가능한 최대 깊이\n",
    "              \"max_features\": [1, 5, 10], # 가장 적절한 분할을 찾기 위한 인자\n",
    "              'min_samples_split': [2, 5, 10], # 2가 기본값\n",
    "              'min_samples_leaf': [1, 5, 10],\n",
    "              \"bootstrap\": [True, False],\n",
    "              \"criterion\": [\"entropy\"]}\n",
    "\n",
    "from sklearn.model_selection import GridSearchCV\n",
    "grid_search = GridSearchCV(estimator = classifier,\n",
    "                           param_grid = parameters,\n",
    "                           scoring = \"accuracy\",\n",
    "                           cv = 10,\n",
    "                           n_jobs = -1)\n",
    "\n",
    "t0 = time.time()\n",
    "grid_search = grid_search.fit(X_train, y_train)\n",
    "t1 = time.time()\n",
    "print(\"Took %0.2f seconds\" % (t1 - t0))\n",
    "\n",
    "rf_best_accuracy = grid_search.best_score_\n",
    "rf_best_parameters = grid_search.best_params_\n",
    "rf_best_accuracy, rf_best_parameters"
   ]
  },
  {
   "cell_type": "code",
   "execution_count": 20,
   "id": "e8b019c5",
   "metadata": {},
   "outputs": [
    {
     "name": "stdout",
     "output_type": "stream",
     "text": [
      "Took 987.92 seconds\n"
     ]
    },
    {
     "data": {
      "text/plain": [
       "(0.6356302654508454,\n",
       " {'bootstrap': True,\n",
       "  'criterion': 'entropy',\n",
       "  'max_depth': None,\n",
       "  'max_features': 5,\n",
       "  'min_samples_leaf': 2,\n",
       "  'min_samples_split': 12})"
      ]
     },
     "execution_count": 20,
     "metadata": {},
     "output_type": "execute_result"
    }
   ],
   "source": [
    "# 더 나은 변수를 찾기 위해 Entropy를 이용하여 한 번 더 검색해본다.\n",
    "parameters = {\"max_depth\": [None],\n",
    "              \"max_features\": [3, 5, 7],\n",
    "              'min_samples_split': [8, 10, 12],\n",
    "              'min_samples_leaf': [1, 2, 3],\n",
    "              \"bootstrap\": [True],\n",
    "              \"criterion\": [\"entropy\"]}\n",
    "\n",
    "from sklearn.model_selection import GridSearchCV\n",
    "grid_search = GridSearchCV(estimator = classifier, # Make sure classifier points to the RF model\n",
    "                           param_grid = parameters,\n",
    "                           scoring = \"accuracy\",\n",
    "                           cv = 10,\n",
    "                           n_jobs = -1)\n",
    "\n",
    "t0 = time.time()\n",
    "grid_search = grid_search.fit(X_train, y_train)\n",
    "t1 = time.time()\n",
    "print(\"Took %0.2f seconds\" % (t1 - t0))\n",
    "\n",
    "rf_best_accuracy = grid_search.best_score_\n",
    "rf_best_parameters = grid_search.best_params_\n",
    "rf_best_accuracy, rf_best_parameters"
   ]
  },
  {
   "cell_type": "markdown",
   "id": "77e48c5b",
   "metadata": {},
   "source": [
    "첫 번째에서 얻은 결과와 차이가 거의 없다.\n",
    "\n",
    "\n",
    "가장 적합하다는 것을 알 수 있다."
   ]
  },
  {
   "cell_type": "code",
   "execution_count": 21,
   "id": "57503445",
   "metadata": {},
   "outputs": [],
   "source": [
    "# 테스트에 적용시켜보자.\n",
    "y_pred = grid_search.predict(X_test) # 그리드로 변환\n",
    "acc = accuracy_score(y_test, y_pred)\n",
    "prec = precision_score(y_test, y_pred)\n",
    "rec = recall_score(y_test, y_pred)\n",
    "f1 = f1_score(y_test, y_pred)\n",
    "\n",
    "model_results = pd.DataFrame([['Random Forest (n=100, GSx2 + Entropy)', acc, prec, rec, f1]], # 엔트로피\n",
    "               columns = ['Model', 'Accuracy', 'Precision', 'Recall', 'F1 Score'])\n",
    "\n",
    "results = results.append(model_results, ignore_index = True)"
   ]
  },
  {
   "cell_type": "code",
   "execution_count": 22,
   "id": "60613d86",
   "metadata": {},
   "outputs": [
    {
     "name": "stdout",
     "output_type": "stream",
     "text": [
      "Took 1926.72 seconds\n"
     ]
    },
    {
     "data": {
      "text/plain": [
       "(0.6353512282315882,\n",
       " {'bootstrap': True,\n",
       "  'criterion': 'gini',\n",
       "  'max_depth': None,\n",
       "  'max_features': 10,\n",
       "  'min_samples_leaf': 5,\n",
       "  'min_samples_split': 2})"
      ]
     },
     "execution_count": 22,
     "metadata": {},
     "output_type": "execute_result"
    }
   ],
   "source": [
    "# Gini를 이용해보자.\n",
    "parameters = {\"max_depth\": [3, None],\n",
    "              \"max_features\": [1, 5, 10],\n",
    "              'min_samples_split': [2, 5, 10],\n",
    "              'min_samples_leaf': [1, 5, 10],\n",
    "              \"bootstrap\": [True, False],\n",
    "              \"criterion\": [\"gini\"]}\n",
    "\n",
    "from sklearn.model_selection import GridSearchCV\n",
    "grid_search = GridSearchCV(estimator = classifier, # Make sure classifier points to the RF model\n",
    "                           param_grid = parameters,\n",
    "                           scoring = \"accuracy\",\n",
    "                           cv = 10,\n",
    "                           n_jobs = -1)\n",
    "\n",
    "t0 = time.time()\n",
    "grid_search = grid_search.fit(X_train, y_train)\n",
    "t1 = time.time()\n",
    "print(\"Took %0.2f seconds\" % (t1 - t0))\n",
    "\n",
    "rf_best_accuracy = grid_search.best_score_\n",
    "rf_best_parameters = grid_search.best_params_\n",
    "rf_best_accuracy, rf_best_parameters"
   ]
  },
  {
   "cell_type": "code",
   "execution_count": 23,
   "id": "6266486a",
   "metadata": {},
   "outputs": [
    {
     "name": "stdout",
     "output_type": "stream",
     "text": [
      "Took 945.00 seconds\n"
     ]
    },
    {
     "data": {
      "text/plain": [
       "(0.635420816975755,\n",
       " {'bootstrap': True,\n",
       "  'criterion': 'gini',\n",
       "  'max_depth': None,\n",
       "  'max_features': 10,\n",
       "  'min_samples_leaf': 8,\n",
       "  'min_samples_split': 2})"
      ]
     },
     "execution_count": 23,
     "metadata": {},
     "output_type": "execute_result"
    }
   ],
   "source": [
    "# 마찬가지로 Gini를 이용하여 한 번 더 도출해본다.\n",
    "parameters = {\"max_depth\": [None],\n",
    "              \"max_features\": [8, 10, 12],\n",
    "              'min_samples_split': [2, 3, 4],\n",
    "              'min_samples_leaf': [8, 10, 12],\n",
    "              \"bootstrap\": [True],\n",
    "              \"criterion\": [\"gini\"]}\n",
    "\n",
    "from sklearn.model_selection import GridSearchCV\n",
    "grid_search = GridSearchCV(estimator = classifier, # Make sure classifier points to the RF model\n",
    "                           param_grid = parameters,\n",
    "                           scoring = \"accuracy\",\n",
    "                           cv = 10,\n",
    "                           n_jobs = -1)\n",
    "\n",
    "t0 = time.time()\n",
    "grid_search = grid_search.fit(X_train, y_train)\n",
    "t1 = time.time()\n",
    "print(\"Took %0.2f seconds\" % (t1 - t0))\n",
    "\n",
    "rf_best_accuracy = grid_search.best_score_\n",
    "rf_best_parameters = grid_search.best_params_\n",
    "rf_best_accuracy, rf_best_parameters"
   ]
  },
  {
   "cell_type": "code",
   "execution_count": 28,
   "id": "c573ce75",
   "metadata": {},
   "outputs": [
    {
     "name": "stdout",
     "output_type": "stream",
     "text": [
      "                                   Model  Accuracy  Precision    Recall  \\\n",
      "0              Linear Regression (Lasso)  0.561977   0.575963  0.705913   \n",
      "1                           SVM (linear)  0.568398   0.577832  0.735477   \n",
      "2                              SVM (RBF)  0.591569   0.605730  0.690871   \n",
      "3                  Random Forest (n=100)  0.621720   0.640098  0.678942   \n",
      "4  Random Forest (n=100, GSx2 + Entropy)  0.625070   0.640828  0.690353   \n",
      "5     Random Forest (n=100, GSx2 + Gini)  0.630932   0.646236  0.694502   \n",
      "6     Random Forest (n=100, GSx2 + Gini)  0.630932   0.646236  0.694502   \n",
      "\n",
      "   F1 Score  \n",
      "0  0.634351  \n",
      "1  0.647193  \n",
      "2  0.645505  \n",
      "3  0.658948  \n",
      "4  0.664669  \n",
      "5  0.669500  \n",
      "6  0.669500  \n"
     ]
    }
   ],
   "source": [
    "# Predicting Test Set\n",
    "y_pred = grid_search.predict(X_test)\n",
    "acc = accuracy_score(y_test, y_pred)\n",
    "prec = precision_score(y_test, y_pred)\n",
    "rec = recall_score(y_test, y_pred)\n",
    "f1 = f1_score(y_test, y_pred)\n",
    "\n",
    "model_results = pd.DataFrame([['Random Forest (n=100, GSx2 + Gini)', acc, prec, rec, f1]],\n",
    "               columns = ['Model', 'Accuracy', 'Precision', 'Recall', 'F1 Score'])\n",
    "\n",
    "results = results.append(model_results, ignore_index = True)\n",
    "print(results)"
   ]
  },
  {
   "cell_type": "markdown",
   "id": "9013c21d",
   "metadata": {},
   "source": [
    "# 모델 완성"
   ]
  },
  {
   "cell_type": "code",
   "execution_count": 27,
   "id": "a621ebb1",
   "metadata": {},
   "outputs": [
    {
     "name": "stdout",
     "output_type": "stream",
     "text": [
      "       entry_id  e_signed  predictions\n",
      "8       6493191       1.0            0\n",
      "9       8908605       1.0            0\n",
      "12      6889184       1.0            1\n",
      "16      9375601       0.0            1\n",
      "18      8515555       1.0            1\n",
      "...         ...       ...          ...\n",
      "17881   5028251       1.0            1\n",
      "17888   8958068       0.0            0\n",
      "17890   3605941       0.0            1\n",
      "17901   1807355       0.0            1\n",
      "17907   1498559       1.0            1\n",
      "\n",
      "[3582 rows x 3 columns]\n"
     ]
    }
   ],
   "source": [
    "final_results = pd.concat([y_test, users], axis = 1).dropna()\n",
    "final_results['predictions'] = y_pred\n",
    "final_results = final_results[['entry_id', 'e_signed', 'predictions']]\n",
    "print(final_results)"
   ]
  },
  {
   "cell_type": "markdown",
   "id": "75987bbf",
   "metadata": {},
   "source": [
    "# 결론"
   ]
  },
  {
   "cell_type": "markdown",
   "id": "41e10ed5",
   "metadata": {},
   "source": [
    "엔트로피를 이용한 랜덤 포레스트 방법이 64%로 가장 높은 정확도를 보여줬다.\n",
    "\n",
    "\n",
    "학습 시키는데 시간이 매우 오래걸려서 프로젝트를 힘들게 끝냈다.\n",
    "\n",
    "\n",
    "앞서 공부했던 '구독 해지율 예측하기'에서도 랜덤 포레스트를 이용하여\n",
    "\n",
    "\n",
    "더 높은 정확도를 이끌어 낼 수 있기에 이 주제를 정리하고 다음 시간에 이용해 보려고 한다."
   ]
  }
 ],
 "metadata": {
  "kernelspec": {
   "display_name": "Python 3",
   "language": "python",
   "name": "python3"
  },
  "language_info": {
   "codemirror_mode": {
    "name": "ipython",
    "version": 3
   },
   "file_extension": ".py",
   "mimetype": "text/x-python",
   "name": "python",
   "nbconvert_exporter": "python",
   "pygments_lexer": "ipython3",
   "version": "3.8.8"
  }
 },
 "nbformat": 4,
 "nbformat_minor": 5
}
